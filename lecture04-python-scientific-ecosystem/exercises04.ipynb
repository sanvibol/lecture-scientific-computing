{
 "cells": [
  {
   "cell_type": "code",
   "execution_count": 1,
   "metadata": {},
   "outputs": [],
   "source": [
    "import numpy as np\n",
    "import matplotlib.pyplot as plt"
   ]
  },
  {
   "cell_type": "markdown",
   "metadata": {},
   "source": [
    "### Exercise 1: Plot sine and cosine\n",
    "\n",
    "Plot $sin(x)$ and $cos(4x)$ from -2 to 4.5. Use the function `np.linspace(start, stop)` to generate values for `x`."
   ]
  },
  {
   "cell_type": "markdown",
   "metadata": {},
   "source": [
    "### Exercise 2: Find the hottest\n",
    "\n",
    "Find the hottest year!\n",
    "\n",
    "<small>Data source: https://www.wien.gv.at/statistik/wetter/</small>"
   ]
  },
  {
   "cell_type": "code",
   "execution_count": 2,
   "metadata": {},
   "outputs": [],
   "source": [
    "years = np.array([1961, 1962, 1963, 1964, 1965, 1966, 1967, 1968, 1969, 1970, 1971, 1972, 1973, 1974, 1975,\n",
    "                  1976, 1977, 1978, 1979, 1980, 1981, 1982, 1983, 1984, 1985, 1986, 1987, 1988, 1989, 1990,\n",
    "                  1991, 1992, 1993, 1994, 1995, 1996, 1997, 1998, 1999, 2000, 2001, 2002, 2003, 2004, 2005,\n",
    "                  2006, 2007, 2008, 2009, 2010, 2011, 2012, 2013])\n",
    "\n",
    "mean_temperature_celsius = np.array([10.2, 8.6, 8.7, 9.1, 8.6, 10.1, 10.2, 9.7, 9.2, 9.2, 9.8, 9.3, 9.6,\n",
    "                                     10.2, 10.1, 9.6, 10.1, 9.1, 9.6, 8.7, 10.1, 10.0, 10.8, 9.4, 9.0, 9.6,\n",
    "                                     9.3, 10.4, 10.7, 10.9, 9.7, 11.1, 10.8, 11.8, 10.4, 8.9, 10.0, 10.8,\n",
    "                                     10.7, 11.7, 10.6, 11.3, 11.0, 10.4, 10.2, 10.7, 11.7, 11.4, 11.0, 9.9,\n",
    "                                     11.1, 11.3, 10.9])"
   ]
  },
  {
   "cell_type": "markdown",
   "metadata": {},
   "source": [
    "### Exercise 3: How many hot years?\n",
    "\n",
    "Count how many hot years there are with more than 11°C in average (use the data from exercise 2)."
   ]
  }
 ],
 "metadata": {
  "kernelspec": {
   "display_name": "Python 3",
   "language": "python",
   "name": "python3"
  },
  "language_info": {
   "codemirror_mode": {
    "name": "ipython",
    "version": 3
   },
   "file_extension": ".py",
   "mimetype": "text/x-python",
   "name": "python",
   "nbconvert_exporter": "python",
   "pygments_lexer": "ipython3",
   "version": "3.7.7"
  }
 },
 "nbformat": 4,
 "nbformat_minor": 4
}
