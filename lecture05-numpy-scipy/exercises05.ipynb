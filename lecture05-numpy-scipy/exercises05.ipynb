{
 "cells": [
  {
   "cell_type": "code",
   "execution_count": 2,
   "metadata": {},
   "outputs": [],
   "source": [
    "import numpy as np"
   ]
  },
  {
   "cell_type": "markdown",
   "metadata": {},
   "source": [
    "### Exercise 1 - Create a matrix with ones surrounded by zeros \n",
    "\n",
    "Create a matrix `m` with shape `(4, 4)` by using `np.zeros()` and set the inner 4 elements to `1` by using slicing in axis 0 and axis 1. Do not use more two assign statements in total for this exercise!"
   ]
  },
  {
   "cell_type": "markdown",
   "metadata": {},
   "source": [
    "### Exercise 2: Plot a two dimensional Gaussian\n",
    "\n",
    "Plot the [two dimensional Gaussian function](https://en.wikipedia.org/wiki/Gaussian_function#Two-dimensional_Gaussian_function):\n",
    "$$\n",
    "    g(x,y) = \\exp\\left(- \\left(\\frac{x^2}{2\\sigma_X^2} + \\frac{y^2}{2\\sigma_Y^2} \\right)\\right)\n",
    "$$\n",
    "\n",
    "Plot the function in the range $x=-10,\\ldots,10$ and $y=-10,\\ldots,10$ and use $\\sigma_X=10$ and $\\sigma_Y=7$."
   ]
  },
  {
   "cell_type": "markdown",
   "metadata": {},
   "source": [
    "### Exercise 3 - Find optimum in plot\n",
    "\n",
    "Alice wants to produce toilet paper. She can choose production costs per pallet freely between 5 and 40 EUR and the price between 15 and 70 EUR. Higher costs will lead to more products sold (due to higher quality), a higher price will lead to less products sold.\n",
    "\n",
    "Assume the number of sold items is given by:\n",
    "$$\n",
    "    n = 1e5 \\cdot \\frac{\\log(\\textrm{costs})}{\\textrm{price}^{0.6}}\n",
    "$$\n",
    "\n",
    "The profit is given by:\n",
    "\n",
    "$$\n",
    "    \\textrm{profit} = n \\cdot (\\textrm{price} - {costs})\n",
    "$$\n",
    "\n",
    "Set discrete values for `costs` and `price` using `np.linspace()`. Then convert costs to a column vector using \n",
    "\n",
    "```costs = costs[:, np.newaxis]```\n",
    "    \n",
    "(check the shape before and after!). Then calculate the profit.\n",
    "\n",
    "Plot the profit using `plt.imshow()` and analyze the parameters for the maximum profit!\n",
    "\n",
    "Use following additional parameters for `plt.imshow()`:\n",
    "\n",
    "`\n",
    "extent=[price.min(), price.max(),\n",
    "       costs.min(), costs.max()],\n",
    "origin='lower'\n",
    "`\n",
    "\n",
    "Use the command `plt.colorbar()` to add a color legend."
   ]
  },
  {
   "cell_type": "markdown",
   "metadata": {},
   "source": [
    "### Exercise 4 - Interpolation\n",
    "\n",
    "Create a `grid` using `np.linspace()` between 1961 and 1973 with `num=37` points. Then use `interp1d()` from `scipy.interpolate` to interpolate the temperature values on the grid.\n",
    "\n",
    "Plot the interpolated values and the grid using the parameter `'o-'`.\n",
    "\n",
    "<small>Data source: https://www.wien.gv.at/statistik/wetter/</small>"
   ]
  },
  {
   "cell_type": "code",
   "execution_count": 60,
   "metadata": {},
   "outputs": [],
   "source": [
    "years = [1961, 1962, 1963, 1964, 1965, 1966, 1967, 1968, 1969, 1970, 1971, 1972, 1973]\n",
    "mean_temperature_celsius = [10.2, 8.6, 8.7, 9.1, 8.6, 10.1, 10.2, 9.7, 9.2, 9.2, 9.8, 9.3, 9.6]"
   ]
  }
 ],
 "metadata": {
  "kernelspec": {
   "display_name": "Python 3",
   "language": "python",
   "name": "python3"
  },
  "language_info": {
   "codemirror_mode": {
    "name": "ipython",
    "version": 3
   },
   "file_extension": ".py",
   "mimetype": "text/x-python",
   "name": "python",
   "nbconvert_exporter": "python",
   "pygments_lexer": "ipython3",
   "version": "3.7.7"
  }
 },
 "nbformat": 4,
 "nbformat_minor": 4
}
